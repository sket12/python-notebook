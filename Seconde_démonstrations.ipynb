{
  "nbformat": 4,
  "nbformat_minor": 0,
  "metadata": {
    "hide_code_all_hidden": true,
    "kernelspec": {
      "display_name": "Python 3 (Ubuntu Linux)",
      "language": "python",
      "metadata": {
        "cocalc": {
          "description": "Python 3 programming language",
          "priority": 100,
          "url": "https://www.python.org/"
        }
      },
      "name": "python3"
    },
    "language_info": {
      "codemirror_mode": {
        "name": "ipython",
        "version": 3
      },
      "file_extension": ".py",
      "mimetype": "text/x-python",
      "name": "python",
      "nbconvert_exporter": "python",
      "pygments_lexer": "ipython3",
      "version": "3.6.8"
    },
    "colab": {
      "name": "Seconde démonstrations.ipynb",
      "version": "0.3.2",
      "provenance": [],
      "toc_visible": true,
      "include_colab_link": true
    }
  },
  "cells": [
    {
      "cell_type": "markdown",
      "metadata": {
        "id": "view-in-github",
        "colab_type": "text"
      },
      "source": [
        "<a href=\"https://colab.research.google.com/github/sket12/python-notebook/blob/master/Seconde_d%C3%A9monstrations.ipynb\" target=\"_parent\"><img src=\"https://colab.research.google.com/assets/colab-badge.svg\" alt=\"Open In Colab\"/></a>"
      ]
    },
    {
      "cell_type": "markdown",
      "metadata": {
        "collapsed": false,
        "hideCode": false,
        "hidePrompt": false,
        "id": "Y9nzne3YYQSU",
        "colab_type": "text"
      },
      "source": [
        "# Conjectures et démonstration \"Manipuler les nombres réels\""
      ]
    },
    {
      "cell_type": "markdown",
      "metadata": {
        "collapsed": false,
        "id": "2jgNgLybYQSZ",
        "colab_type": "text"
      },
      "source": [
        "![](demonstrations_reel.PNG)"
      ]
    },
    {
      "cell_type": "markdown",
      "metadata": {
        "collapsed": false,
        "hideCode": false,
        "hidePrompt": false,
        "id": "YCQc-zsyYQSd",
        "colab_type": "text"
      },
      "source": [
        "### Montrer que  $ \\frac{1}{3} $ n'est pas décimal"
      ]
    },
    {
      "cell_type": "markdown",
      "metadata": {
        "collapsed": false,
        "hideCode": false,
        "hidePrompt": false,
        "id": "yWru1B8IYQSh",
        "colab_type": "text"
      },
      "source": [
        "On commence par demander à la machine de calculer différents nombresous la forme $ \\frac{a}{b} $ avec ${b}\\neq{0}$"
      ]
    },
    {
      "cell_type": "code",
      "metadata": {
        "hideCode": false,
        "hidePrompt": false,
        "id": "7_R4ZxhxYQSk",
        "colab_type": "code",
        "outputId": "92d5e482-daef-4508-91dc-d61df6abd2fa",
        "colab": {}
      },
      "source": [
        "1/3,1/5,2/8,2/7,21/23 # le fait de séaprer les calculs par des virgules fait renvoyer les résultat sous forme de liste"
      ],
      "execution_count": 0,
      "outputs": [
        {
          "output_type": "execute_result",
          "data": {
            "text/plain": [
              "(0.3333333333333333, 0.2, 0.25, 0.2857142857142857, 0.9130434782608695)"
            ]
          },
          "metadata": {
            "tags": []
          },
          "execution_count": 1
        }
      ]
    },
    {
      "cell_type": "markdown",
      "metadata": {
        "collapsed": false,
        "hideCode": false,
        "hidePrompt": false,
        "id": "hulf-IN0YQS3",
        "colab_type": "text"
      },
      "source": [
        "Il semble qu'il y ai des différences , les écritures sont plus ou moins longue et des répétitions peuvent apparaître"
      ]
    },
    {
      "cell_type": "markdown",
      "metadata": {
        "collapsed": false,
        "id": "zD3xU-vyYQTA",
        "colab_type": "text"
      },
      "source": [
        "On peut aussi lui demander le type de toute une liste de nombre en mettant les résultats dans une liste..et lui faire aussi afficher les nombres"
      ]
    },
    {
      "cell_type": "code",
      "metadata": {
        "id": "Rj_S6qiFYQTE",
        "colab_type": "code",
        "outputId": "0828ab46-2a95-4ffa-84d4-941572f25b45",
        "colab": {}
      },
      "source": [
        "Liste_de_nombre=[1/3,1/5,2/8,2/7,21/23]\n",
        "[type(i) for i in Liste_de_nombre],Liste_de_nombre"
      ],
      "execution_count": 0,
      "outputs": [
        {
          "output_type": "execute_result",
          "data": {
            "text/plain": [
              "([float, float, float, float, float],\n",
              " [0.3333333333333333, 0.2, 0.25, 0.2857142857142857, 0.9130434782608695])"
            ]
          },
          "metadata": {
            "tags": []
          },
          "execution_count": 2
        }
      ]
    },
    {
      "cell_type": "markdown",
      "metadata": {
        "collapsed": false,
        "hideCode": false,
        "hidePrompt": false,
        "id": "ATorLOa8YQTO",
        "colab_type": "text"
      },
      "source": [
        "La machine ne fait pas beaucoup de différence entre ces nombres elle se les représente par le  type \"float\" que ce soit un décimal ou pas ..\n",
        "avec un nombre le plus grand possible de nombre après la virgule.  \n",
        "\n",
        "On rappelle qu'un décimal est un nombre fractionnaire dont le dénominateur est une puissannce de 2, 5 ou 10"
      ]
    },
    {
      "cell_type": "markdown",
      "metadata": {
        "collapsed": false,
        "id": "ml-O7JUNYQTR",
        "colab_type": "text"
      },
      "source": [
        "On peut alors dans une autre approche ne demander d'écrire des listes que de  décimaux ou que nombres qui ne sont pas décimaux"
      ]
    },
    {
      "cell_type": "markdown",
      "metadata": {
        "collapsed": false,
        "id": "Lmd0K_JtYQTU",
        "colab_type": "text"
      },
      "source": [
        "Les décimaux, don es fractionnaires dont le dénominateur est une puissance de 2,5 ou 10."
      ]
    },
    {
      "cell_type": "code",
      "metadata": {
        "id": "62ocAI9dYQTW",
        "colab_type": "code",
        "outputId": "394e4424-9905-4b4b-c295-9f20deef97a4",
        "colab": {}
      },
      "source": [
        "Liste_de_nombre=[1/5,1/5**2,2/2**5,2/10**7,21/5**7]\n",
        "[type(i) for i in Liste_de_nombre],Liste_de_nombre"
      ],
      "execution_count": 0,
      "outputs": [
        {
          "output_type": "execute_result",
          "data": {
            "text/plain": [
              "([float, float, float, float, float], [0.2, 0.04, 0.0625, 2e-07, 0.0002688])"
            ]
          },
          "metadata": {
            "tags": []
          },
          "execution_count": 3
        }
      ]
    },
    {
      "cell_type": "markdown",
      "metadata": {
        "collapsed": false,
        "id": "XwEVxeMEYQTk",
        "colab_type": "text"
      },
      "source": [
        "Les nombres non décimaux, dont le dénominateur n'est pas une puissance de 2,5 ou 10. "
      ]
    },
    {
      "cell_type": "code",
      "metadata": {
        "id": "bpMgtGd_YQTm",
        "colab_type": "code",
        "outputId": "7036ebd6-ddc6-448f-f7e8-e26ed3ee37b0",
        "colab": {}
      },
      "source": [
        "Liste_de_nombre=[745/3,856/7**2,7896/6**5,452785/9**7,21/3]\n",
        "[type(i) for i in Liste_de_nombre],Liste_de_nombre"
      ],
      "execution_count": 0,
      "outputs": [
        {
          "output_type": "execute_result",
          "data": {
            "text/plain": [
              "([float, float, float, float, float],\n",
              " [248.33333333333334,\n",
              "  17.46938775510204,\n",
              "  1.0154320987654322,\n",
              "  0.09466609547333465,\n",
              "  7.0])"
            ]
          },
          "metadata": {
            "tags": []
          },
          "execution_count": 4
        }
      ]
    },
    {
      "cell_type": "markdown",
      "metadata": {
        "collapsed": false,
        "id": "Htj-iPC_YQTy",
        "colab_type": "text"
      },
      "source": [
        "Même si les nombres sont de la même nature pour la machine il semble qu'il ne soit pas structués de la même manière. \n",
        "On peut continuer à faire appel à al machine en lui demandant plus de chiffre après la virgule, pour cela on a besoin d'une bibliothèque qui s'appelle \"décimal\" "
      ]
    },
    {
      "cell_type": "code",
      "metadata": {
        "id": "hB4CE604YQT1",
        "colab_type": "code",
        "colab": {}
      },
      "source": [
        "import decimal # On importe la bibliothèque... "
      ],
      "execution_count": 0,
      "outputs": []
    },
    {
      "cell_type": "markdown",
      "metadata": {
        "collapsed": false,
        "id": "9bEva51dYQT_",
        "colab_type": "text"
      },
      "source": [
        "Puis on l'utilise.. En appelant la fonction \"Decimal\" dans la bibliothèque \"decimal\" "
      ]
    },
    {
      "cell_type": "code",
      "metadata": {
        "id": "0jhAJfN6YQUC",
        "colab_type": "code",
        "outputId": "30c5a479-bf15-4440-a84c-4280c267384f",
        "colab": {}
      },
      "source": [
        "decimal. Decimal(1/3), decimal. Decimal(1/5**4)"
      ],
      "execution_count": 0,
      "outputs": [
        {
          "output_type": "execute_result",
          "data": {
            "text/plain": [
              "(Decimal('0.333333333333333314829616256247390992939472198486328125'),\n",
              " Decimal('0.00160000000000000007667477763817487357300706207752227783203125'))"
            ]
          },
          "metadata": {
            "tags": []
          },
          "execution_count": 6
        }
      ]
    },
    {
      "cell_type": "markdown",
      "metadata": {
        "collapsed": false,
        "id": "mlfZVhiaYQUN",
        "colab_type": "text"
      },
      "source": [
        "On obtient des résultats pour le moins curieux... Qui viennent du fait que la machine code les nombres sur des octets et lorsqu'on dépasse un certain seuil la machine utilise d'autres approximation. "
      ]
    },
    {
      "cell_type": "markdown",
      "metadata": {
        "collapsed": false,
        "hideCode": false,
        "hidePrompt": false,
        "id": "OE65661sYQUR",
        "colab_type": "text"
      },
      "source": [
        "Une autre approche consiste à calculer le quotient et le reste dans le cadre de la division entièr afin de construire l'écriture decimal comme au cycle 3..."
      ]
    },
    {
      "cell_type": "code",
      "metadata": {
        "hideCode": false,
        "hidePrompt": false,
        "id": "katIrryFYQUW",
        "colab_type": "code",
        "outputId": "de9164f3-6878-40ac-997c-4b4352b6864d",
        "colab": {}
      },
      "source": [
        "a=1;b=2\n",
        "reste=a%b;quotient=a//b\n",
        "quotient, reste"
      ],
      "execution_count": 0,
      "outputs": [
        {
          "output_type": "execute_result",
          "data": {
            "text/plain": [
              "(0, 1)"
            ]
          },
          "metadata": {
            "tags": []
          },
          "execution_count": 7
        }
      ]
    },
    {
      "cell_type": "markdown",
      "metadata": {
        "collapsed": false,
        "id": "UUdV1i7PYQUg",
        "colab_type": "text"
      },
      "source": [
        "Par contre comme \"0\" est multiple de tous les nombres, si le numérateur est plus petit que le dénominateur il faut donc changer d'unité et comme les nombres sont décomposées dans la base \"10\" on transforme par exemple la fraction  $ \\frac{1}{3} $ par $ \\frac{10}{3} $ et la réponse sera en dixièmes et plus en unités. "
      ]
    },
    {
      "cell_type": "code",
      "metadata": {
        "id": "RP7CmNBnYQUl",
        "colab_type": "code",
        "colab": {}
      },
      "source": [
        "def quo_rest(a,b):\n",
        "    while a/b<1:\n",
        "        a=a*10\n",
        "    return a//b, a%b, a, b\n",
        "    "
      ],
      "execution_count": 0,
      "outputs": []
    },
    {
      "cell_type": "code",
      "metadata": {
        "id": "vHYnhQX5YQUt",
        "colab_type": "code",
        "outputId": "3a7abde4-ca5f-46e5-971f-863887e409f0",
        "colab": {}
      },
      "source": [
        "quo_rest(1,5)"
      ],
      "execution_count": 0,
      "outputs": [
        {
          "output_type": "execute_result",
          "data": {
            "text/plain": [
              "(2, 0, 10, 5)"
            ]
          },
          "metadata": {
            "tags": []
          },
          "execution_count": 9
        }
      ]
    },
    {
      "cell_type": "markdown",
      "metadata": {
        "collapsed": false,
        "hideCode": false,
        "hidePrompt": false,
        "id": "fpq8nLIEYQU1",
        "colab_type": "text"
      },
      "source": [
        "Ce calcul nous permet de déterminer le premier nombre different de \"0\"  de l'écriture décimale ddu résultat de \"divisé par\" b\" \n",
        "Mais pour continuer  cette division il faut la poursuivre avec le reste pour dividende et bien entendu toujours le même diviseur et tant qu'on le jugera nécessaire il faut donc introduire une boucle."
      ]
    },
    {
      "cell_type": "code",
      "metadata": {
        "id": "QhLXCxESYQU4",
        "colab_type": "code",
        "outputId": "c901c805-db73-48a1-f452-f57aa1f9f8aa",
        "colab": {
          "base_uri": "https://localhost:8080/",
          "height": 231
        }
      },
      "source": [
        "Max_decim=10;compteur_decim=0\n",
        "a=1;b=3;ecrit_decim=[] \n",
        "while compteur_decim<=Max_decim:\n",
        "    ecrit_decim.append(quo_rest(a,b)[0])\n",
        "    a=quo_rest(a,b)[1]\n",
        "    compteur_decim=compteur_decim+1\n",
        "ecrit_decim"
      ],
      "execution_count": 0,
      "outputs": [
        {
          "output_type": "error",
          "ename": "NameError",
          "evalue": "ignored",
          "traceback": [
            "\u001b[0;31m---------------------------------------------------------------------------\u001b[0m",
            "\u001b[0;31mNameError\u001b[0m                                 Traceback (most recent call last)",
            "\u001b[0;32m<ipython-input-1-71fc9311fea7>\u001b[0m in \u001b[0;36m<module>\u001b[0;34m()\u001b[0m\n\u001b[1;32m      2\u001b[0m \u001b[0ma\u001b[0m\u001b[0;34m=\u001b[0m\u001b[0;36m1\u001b[0m\u001b[0;34m;\u001b[0m\u001b[0mb\u001b[0m\u001b[0;34m=\u001b[0m\u001b[0;36m3\u001b[0m\u001b[0;34m;\u001b[0m\u001b[0mecrit_decim\u001b[0m\u001b[0;34m=\u001b[0m\u001b[0;34m[\u001b[0m\u001b[0;34m]\u001b[0m\u001b[0;34m\u001b[0m\u001b[0;34m\u001b[0m\u001b[0m\n\u001b[1;32m      3\u001b[0m \u001b[0;32mwhile\u001b[0m \u001b[0mcompteur_decim\u001b[0m\u001b[0;34m<=\u001b[0m\u001b[0mMax_decim\u001b[0m\u001b[0;34m:\u001b[0m\u001b[0;34m\u001b[0m\u001b[0;34m\u001b[0m\u001b[0m\n\u001b[0;32m----> 4\u001b[0;31m     \u001b[0mecrit_decim\u001b[0m\u001b[0;34m.\u001b[0m\u001b[0mappend\u001b[0m\u001b[0;34m(\u001b[0m\u001b[0mquo_rest\u001b[0m\u001b[0;34m(\u001b[0m\u001b[0ma\u001b[0m\u001b[0;34m,\u001b[0m\u001b[0mb\u001b[0m\u001b[0;34m)\u001b[0m\u001b[0;34m[\u001b[0m\u001b[0;36m0\u001b[0m\u001b[0;34m]\u001b[0m\u001b[0;34m)\u001b[0m\u001b[0;34m\u001b[0m\u001b[0;34m\u001b[0m\u001b[0m\n\u001b[0m\u001b[1;32m      5\u001b[0m     \u001b[0ma\u001b[0m\u001b[0;34m=\u001b[0m\u001b[0mquo_rest\u001b[0m\u001b[0;34m(\u001b[0m\u001b[0ma\u001b[0m\u001b[0;34m,\u001b[0m\u001b[0mb\u001b[0m\u001b[0;34m)\u001b[0m\u001b[0;34m[\u001b[0m\u001b[0;36m1\u001b[0m\u001b[0;34m]\u001b[0m\u001b[0;34m\u001b[0m\u001b[0;34m\u001b[0m\u001b[0m\n\u001b[1;32m      6\u001b[0m     \u001b[0mcompteur_decim\u001b[0m\u001b[0;34m=\u001b[0m\u001b[0mcompteur_decim\u001b[0m\u001b[0;34m+\u001b[0m\u001b[0;36m1\u001b[0m\u001b[0;34m\u001b[0m\u001b[0;34m\u001b[0m\u001b[0m\n",
            "\u001b[0;31mNameError\u001b[0m: name 'quo_rest' is not defined"
          ]
        }
      ]
    },
    {
      "cell_type": "markdown",
      "metadata": {
        "collapsed": false,
        "id": "g-f7D1i4YQVE",
        "colab_type": "text"
      },
      "source": [
        "En faisant tourner la procédure ci-dessus sur des nombres fractionnaires différents et avec des nombres de décimales plus ou moins grand, il semble que pour les nombres fractionnaires qui ont un dénominateur égale à une puissance de 2,5 ou 10 la suite des décimales fini toujours par être égale à \"0\" pour les autres il semble plutôt que le suite des décimales se répéte à l'infini.. "
      ]
    },
    {
      "cell_type": "markdown",
      "metadata": {
        "collapsed": false,
        "hideCode": false,
        "hidePrompt": false,
        "id": "ULSh6GQnYQVH",
        "colab_type": "text"
      },
      "source": [
        "L'idée est donc que les rationnels semblent avoir un développent période et que inversement tout nombre décimal \n",
        "qui s'écrit sous forme périodique est un rationnel.\n",
        "\n",
        "Et que par contre le développent decimal d'un nombre decimal justement et une suite de \"0\" à partir d'un certain rang. "
      ]
    },
    {
      "cell_type": "markdown",
      "metadata": {
        "collapsed": false,
        "hideCode": false,
        "hidePrompt": false,
        "id": "JLNisVYPYQVK",
        "colab_type": "text"
      },
      "source": [
        "Démontrons le :\n",
        "\n",
        "Et le programme nous donne un exemple ..qui est $ \\frac{1}{3} $.\n",
        "Si on divise 1 par 3 on multiplie le dividende par 10 (on change donc d'unité) puis on poursuit la division on obtiendra un quotient égale à 3 et un reste égal à 1 car $10=3\\times3+1$, et l'opération se répète à l’identique puisqu'on divise toujours par le même nombre.\n",
        "Et il n'est donc pas décimal.. \n",
        "\n",
        "A ce stade on peut se demander si à l’inverse  un nombre décimal périodique  peut s’écrire sous forme de fraction. \n",
        "\n",
        "Admettons qu'un nombre possède un développement décimal \n",
        "par exemple $1, \\overline{134}$   si on le note $\"x\"$ alors $1000x-x=134$ et donc $999x=134$ on en déduit que $x=\\frac{134}{999}$. \n",
        "\n",
        "Ou encore  si on considère le nombre  $1,45\\overline{233}$ et si on note $\"x\"$ ce nombre il est clair que \n",
        "$10^5x-10^2x=145233,\\overline{233}-145,\\overline{233}=145088$ on en déduit que $(10^5-10^2)x=145088$ et donc que $x=\\frac{145088}{99900}$."
      ]
    },
    {
      "cell_type": "markdown",
      "metadata": {
        "collapsed": false,
        "hideCode": false,
        "hidePrompt": false,
        "id": "zZHF8oKpYQVM",
        "colab_type": "text"
      },
      "source": [
        "## Montrer que $\\sqrt2$ n'est pas rationnel"
      ]
    },
    {
      "cell_type": "markdown",
      "metadata": {
        "collapsed": false,
        "hideCode": false,
        "hidePrompt": false,
        "id": "L8EeEwlDYQVP",
        "colab_type": "text"
      },
      "source": [
        "On va commencer par demander à la machine si elle connaît $\\sqrt2$.."
      ]
    },
    {
      "cell_type": "code",
      "metadata": {
        "hideCode": false,
        "hidePrompt": false,
        "id": "dIgotp4DYQVS",
        "colab_type": "code",
        "outputId": "d41f25e0-2d73-4e28-e171-b2e0476a25fe",
        "colab": {}
      },
      "source": [
        "sqrt(2)"
      ],
      "execution_count": 0,
      "outputs": [
        {
          "output_type": "error",
          "ename": "NameError",
          "evalue": "name 'sqrt' is not defined",
          "traceback": [
            "\u001b[0;31m---------------------------------------------------------------------------\u001b[0m",
            "\u001b[0;31mNameError\u001b[0m                                 Traceback (most recent call last)",
            "\u001b[0;32m<ipython-input-11-66e338417901>\u001b[0m in \u001b[0;36m<module>\u001b[0;34m()\u001b[0m\n\u001b[0;32m----> 1\u001b[0;31m \u001b[0msqrt\u001b[0m\u001b[0;34m(\u001b[0m\u001b[0;36m2\u001b[0m\u001b[0;34m)\u001b[0m\u001b[0;34m\u001b[0m\u001b[0;34m\u001b[0m\u001b[0m\n\u001b[0m",
            "\u001b[0;31mNameError\u001b[0m: name 'sqrt' is not defined"
          ]
        }
      ]
    },
    {
      "cell_type": "markdown",
      "metadata": {
        "collapsed": false,
        "hideCode": false,
        "hidePrompt": false,
        "id": "aaubaX2UYQVb",
        "colab_type": "text"
      },
      "source": [
        "Ca semble n'être pas le cas , par contre en important la bibliothèqye des maths .."
      ]
    },
    {
      "cell_type": "code",
      "metadata": {
        "hideCode": false,
        "hidePrompt": false,
        "id": "jv7bRhTnYQVg",
        "colab_type": "code",
        "outputId": "4305480f-fbe1-48dd-9ac9-a0dce5726ce4",
        "colab": {}
      },
      "source": [
        "import math\n",
        "math.sqrt(2)"
      ],
      "execution_count": 0,
      "outputs": [
        {
          "output_type": "execute_result",
          "data": {
            "text/plain": [
              "1.4142135623730951"
            ]
          },
          "metadata": {
            "tags": []
          },
          "execution_count": 12
        }
      ]
    },
    {
      "cell_type": "markdown",
      "metadata": {
        "collapsed": false,
        "id": "iN23UCJJYQVt",
        "colab_type": "text"
      },
      "source": [
        "Il semble connaître ... , on va lui demander son type."
      ]
    },
    {
      "cell_type": "code",
      "metadata": {
        "id": "115L4XziYQVv",
        "colab_type": "code",
        "outputId": "598cdc13-8dba-4c6a-b16e-14119522d927",
        "colab": {}
      },
      "source": [
        "type(math.sqrt(2))"
      ],
      "execution_count": 0,
      "outputs": [
        {
          "output_type": "execute_result",
          "data": {
            "text/plain": [
              "float"
            ]
          },
          "metadata": {
            "tags": []
          },
          "execution_count": 13
        }
      ]
    },
    {
      "cell_type": "markdown",
      "metadata": {
        "collapsed": false,
        "id": "FDmaecCOYQV7",
        "colab_type": "text"
      },
      "source": [
        "Donc il semble que la machine considère $\\sqrt2$ comme un décimal , il devrait donc y avoir une période"
      ]
    },
    {
      "cell_type": "markdown",
      "metadata": {
        "collapsed": false,
        "id": "MZJDVtNRYQV-",
        "colab_type": "text"
      },
      "source": [
        "On sait qu'il existe un module plus précis \"decimal\" qui permet d'avoir plus de chiffres significatifs"
      ]
    },
    {
      "cell_type": "code",
      "metadata": {
        "id": "7gOo3z4kYQWF",
        "colab_type": "code",
        "outputId": "f7ddcd5d-3283-4c5b-a279-7ffe56001045",
        "colab": {}
      },
      "source": [
        "import decimal\n",
        "decimal.Decimal(math.sqrt(2))  # C'est l'instruction qui permet d'obtenir plus de décimales"
      ],
      "execution_count": 0,
      "outputs": [
        {
          "output_type": "execute_result",
          "data": {
            "text/plain": [
              "Decimal('1.4142135623730951454746218587388284504413604736328125')"
            ]
          },
          "metadata": {
            "tags": []
          },
          "execution_count": 14
        }
      ]
    },
    {
      "cell_type": "markdown",
      "metadata": {
        "collapsed": false,
        "id": "9Gc7zdsyYQWV",
        "colab_type": "text"
      },
      "source": [
        "Mais bon toujours pas de période apparente ..\n",
        "Bien sur on pourrait prendre une machine plus complexe, plus sophistiquée mais on ne porra jamais aller vers une quantuté infini de nombres .. donc il faut raisonner .. Sans la machine \n",
        "\n",
        "Et il semblerait donc qu'il ne soit pas décimal enfin plutôt qu'il n'a pas de dévelloppement périodique.\n",
        "\n",
        "Démontrons le :"
      ]
    },
    {
      "cell_type": "markdown",
      "metadata": {
        "collapsed": false,
        "id": "zCRqaE7EYQWX",
        "colab_type": "text"
      },
      "source": [
        "A supposer qu’il le soit alors il existerait deux entiers que l’on notera p  et q différent de “0” qui ne possède aucun diviseur commun si ce n’est le nombre “1” tel que $2=\\frac{p}{q}$ et donc tel que $2=\\frac{p^2}{q2}$ et donc on aurait $2q^2=p^2$ ce qui voudrait dire que $p^2$ serait  pair  ce qui implique que “p” devrait être pair mais alors il existerait un entier “k” tel que $p=2k$ et donc tel que $ p^2=4k^2$ et donc $2q^2=4k^2$ or en divisant par “2” on obtient que $q^2=2k^2$ ce qui voudrait dire que $q^2$ serait pair et donc q aussi . \n",
        "\n",
        "Mais alors \"p\" et \"q\" possèderait un autre diviseur commun que “1” c’est le nombre “2”."
      ]
    },
    {
      "cell_type": "markdown",
      "metadata": {
        "id": "k0frMWV95Lb5",
        "colab_type": "text"
      },
      "source": [
        ""
      ]
    },
    {
      "cell_type": "markdown",
      "metadata": {
        "collapsed": false,
        "hideCode": false,
        "hidePrompt": false,
        "id": "r--TIe9c4UFA",
        "colab_type": "text"
      },
      "source": [
        "# Conjectures et démonstration \"Utiliser les multiples , les diviseurs et les nombres premiers\""
      ]
    },
    {
      "cell_type": "markdown",
      "metadata": {
        "collapsed": false,
        "id": "k5EdcpYU4UFJ",
        "colab_type": "text"
      },
      "source": [
        "#### Démontrer que la somme de deux multiples d'un nombre et lui aussi multiple de ce nombre"
      ]
    },
    {
      "cell_type": "markdown",
      "metadata": {
        "collapsed": false,
        "hideCode": false,
        "hidePrompt": false,
        "id": "ALStP-eh4UFM",
        "colab_type": "text"
      },
      "source": [
        "On commence par écrire une procédure en python qui permet de donner un certain nombre de multiples d'un entier donné."
      ]
    },
    {
      "cell_type": "code",
      "metadata": {
        "hideCode": false,
        "hidePrompt": false,
        "id": "wLB6_HPX4UFO",
        "colab_type": "code",
        "colab": {}
      },
      "source": [
        "def multiple_de_(A,Max):                # On commence par définir la procédue avec un nom et des arguments\n",
        "    return [A*k for k in range(Max)]    # Elle va renvoyer une liste avec les multiples de A pour A variant de 0 à 999"
      ],
      "execution_count": 0,
      "outputs": []
    },
    {
      "cell_type": "markdown",
      "metadata": {
        "collapsed": false,
        "hideCode": false,
        "hidePrompt": false,
        "id": "f9yTU-ZL4UFZ",
        "colab_type": "text"
      },
      "source": [
        "On lance la procédure avec comme argument , l'entier \"A\" dont on cherche les multiples et l'entier \"Max\" qui représente le nombre maximum de multiple de A que l'on veut."
      ]
    },
    {
      "cell_type": "code",
      "metadata": {
        "hideCode": false,
        "hidePrompt": false,
        "id": "lJDPaVnL4UFb",
        "colab_type": "code",
        "outputId": "af92726a-4333-4bbe-e55a-a46721ed73e5",
        "colab": {}
      },
      "source": [
        "multiple_de_(2,10) # On appelle la procédure avec ce que l'on veut"
      ],
      "execution_count": 0,
      "outputs": [
        {
          "output_type": "execute_result",
          "data": {
            "text/plain": [
              "[0, 2, 4, 6, 8, 10, 12, 14, 16, 18]"
            ]
          },
          "metadata": {
            "tags": []
          },
          "execution_count": 2
        }
      ]
    },
    {
      "cell_type": "markdown",
      "metadata": {
        "collapsed": false,
        "id": "cBc8bfu74UFo",
        "colab_type": "text"
      },
      "source": [
        "On choisit alors deux éléments au hasard dans la liste des multiples et on les additionne "
      ]
    },
    {
      "cell_type": "code",
      "metadata": {
        "id": "ZFhrJVBO4UFr",
        "colab_type": "code",
        "outputId": "806f87b2-2150-4177-e8e3-99c4cb80765f",
        "colab": {}
      },
      "source": [
        "import random        # Méthode qui permet d'utiliser des fonctions liées au hasard\n",
        "\n",
        "# \"choice\" permet de choisir une élément dans une liste \n",
        "random.choice(multiple_de_(2,10))+random.choice(multiple_de_(2,10)) "
      ],
      "execution_count": 0,
      "outputs": [
        {
          "output_type": "execute_result",
          "data": {
            "text/plain": [
              "16"
            ]
          },
          "metadata": {
            "tags": []
          },
          "execution_count": 3
        }
      ]
    },
    {
      "cell_type": "markdown",
      "metadata": {
        "collapsed": false,
        "id": "P-9BBB9b4UF0",
        "colab_type": "text"
      },
      "source": [
        "On lance la procédure précédente un certain nombre de fois "
      ]
    },
    {
      "cell_type": "code",
      "metadata": {
        "id": "QBA47Hk84UF3",
        "colab_type": "code",
        "outputId": "6358ad1f-6d12-4cc9-f015-65b1172beff0",
        "colab": {}
      },
      "source": [
        "[random.choice(multiple_de_(3,10))+random.choice(multiple_de_(3,10)) for compteur in range(10)]"
      ],
      "execution_count": 0,
      "outputs": [
        {
          "output_type": "execute_result",
          "data": {
            "text/plain": [
              "[36, 39, 18, 15, 12, 33, 45, 33, 42, 3]"
            ]
          },
          "metadata": {
            "tags": []
          },
          "execution_count": 4
        }
      ]
    },
    {
      "cell_type": "markdown",
      "metadata": {
        "collapsed": false,
        "id": "Ce0xAs704UGB",
        "colab_type": "text"
      },
      "source": [
        "Le constat est assez clair .. Il semble que la somme de deux multiples d'un entier soit encore multiple de cette entier."
      ]
    },
    {
      "cell_type": "markdown",
      "metadata": {
        "collapsed": false,
        "id": "B-TdKCc54UGF",
        "colab_type": "text"
      },
      "source": [
        "On peut même diviser tout les éléments de la liste et obtenir leur reste par le multiple. \n",
        "\n",
        "On devrait obtenir \"0\" si tout va bien "
      ]
    },
    {
      "cell_type": "code",
      "metadata": {
        "id": "ggCjwz-T4UGI",
        "colab_type": "code",
        "outputId": "95fd5365-543e-4d92-a06d-c20efb1302a0",
        "colab": {}
      },
      "source": [
        "k=8\n",
        "[(random.choice(multiple_de_(k,10))+random.choice(multiple_de_(k,10)))%k for compteur in range(10)]"
      ],
      "execution_count": 0,
      "outputs": [
        {
          "output_type": "execute_result",
          "data": {
            "text/plain": [
              "[0, 0, 0, 0, 0, 0, 0, 0, 0, 0]"
            ]
          },
          "metadata": {
            "tags": []
          },
          "execution_count": 5
        }
      ]
    },
    {
      "cell_type": "markdown",
      "metadata": {
        "collapsed": false,
        "id": "GcRSVire4UGR",
        "colab_type": "text"
      },
      "source": [
        "La conjecture semble suffisamment clair. \n",
        "On peut passer à la démonstration\n",
        "\n",
        "En effet si on considère deux multiples de “a” que l’on notera “M1” et “M2” qui est lui aussi un nombre entier.\n",
        "\n",
        "Cela veut dire que les deux multiples sont dans la table de multiplication de $“a”$ autrement dit il existe $“n1”$ et $“n2”$ tel que $M1=a\\times n1$ et $M2=a\\times n2$.\n",
        "\n",
        "On en déduit que $M1+M2=a\\times n1+a\\times n2$ et donc par factorisation que $M1+M2=a\\times (n1+n2)$ qui sera donc la table de multiplication de $“a”$. "
      ]
    },
    {
      "cell_type": "markdown",
      "metadata": {
        "collapsed": false,
        "id": "hQKT5sWY4UGU",
        "colab_type": "text"
      },
      "source": [
        "## Démontrer qu'un nombre impair au carré est encore impair"
      ]
    },
    {
      "cell_type": "markdown",
      "metadata": {
        "collapsed": false,
        "id": "RUzTMWsi4UGW",
        "colab_type": "text"
      },
      "source": [
        "On sait que les impairs se construisent avec la formule $2n+1$ avec $n\\in \\mathbb{N}$. \n",
        "\n",
        "On va donc écrire une procédure qui renvoie un certain nombre d'impairs au carré et on va déterminer si le reste \n",
        "par la division par 2 est 1 ."
      ]
    },
    {
      "cell_type": "code",
      "metadata": {
        "id": "Bz8YA1_14UGZ",
        "colab_type": "code",
        "outputId": "ceb45e98-6702-4843-ba6a-f9b8278b1b50",
        "colab": {}
      },
      "source": [
        "[(2*n+1)**2%2 for n in range(5)]"
      ],
      "execution_count": 0,
      "outputs": [
        {
          "output_type": "execute_result",
          "data": {
            "text/plain": [
              "[1, 1, 1, 1, 1]"
            ]
          },
          "metadata": {
            "tags": []
          },
          "execution_count": 6
        }
      ]
    },
    {
      "cell_type": "markdown",
      "metadata": {
        "collapsed": false,
        "id": "9ka79XsE4UGk",
        "colab_type": "text"
      },
      "source": [
        "La conjecture est établie"
      ]
    },
    {
      "cell_type": "markdown",
      "metadata": {
        "collapsed": false,
        "id": "qQmt9yCl4UGn",
        "colab_type": "text"
      },
      "source": [
        "On peut donc passer à la démonstration : \n",
        "\n",
        "Par contre si on s’intéresse aux nombres impairs la question est différente. \n",
        "\n",
        "On appelle nombre impair un nombre qui a pour reste 1 dans la division par 2 c’est à dire qu’il s’écrit sous la forme \"2n+1\" pour “n” un entier quelconque.\n",
        "\n",
        "Alors $(2n+1)^2=4n^2+4n+1=2(2n^2+2n)+1$ il est donc lui aussi impair."
      ]
    }
  ]
}